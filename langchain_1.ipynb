{
 "cells": [
  {
   "cell_type": "code",
   "execution_count": 1,
   "id": "9e01985c",
   "metadata": {},
   "outputs": [],
   "source": [
    "import getpass\n",
    "import os\n",
    "\n",
    "os.environ[\"LANGSMITH_TRACING\"] = \"true\"\n",
    "os.environ[\"LANGSMITH_API_KEY\"] = getpass.getpass() # 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"
   ]
  },
  {
   "cell_type": "code",
   "execution_count": 2,
   "id": "92534afd",
   "metadata": {},
   "outputs": [
    {
     "data": {
      "text/plain": [
       "'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'"
      ]
     },
     "execution_count": 2,
     "metadata": {},
     "output_type": "execute_result"
    }
   ],
   "source": [
    "os.environ[\"LANGSMITH_API_KEY\"]"
   ]
  },
  {
   "cell_type": "markdown",
   "id": "1ecbd64c",
   "metadata": {},
   "source": [
    "## Download Ollama\n",
    "https://ollama.com/download"
   ]
  },
  {
   "cell_type": "code",
   "execution_count": 3,
   "id": "2eae4f9b",
   "metadata": {},
   "outputs": [],
   "source": [
    "# %pip install -qU langchain-ollama\n",
    "# %pip install -U ollama"
   ]
  },
  {
   "cell_type": "code",
   "execution_count": 7,
   "id": "07928e51",
   "metadata": {},
   "outputs": [],
   "source": [
    "from langchain_ollama import ChatOllama\n",
    "\n",
    "llm = ChatOllama(\n",
    "    model=\"llama3.2\",\n",
    "    temperature=0,\n",
    "    # other params...\n",
    ")"
   ]
  },
  {
   "cell_type": "code",
   "execution_count": 8,
   "id": "eb149879",
   "metadata": {},
   "outputs": [
    {
     "data": {
      "text/plain": [
       "AIMessage(content='Je aime le programmation.', additional_kwargs={}, response_metadata={'model': 'llama3.2', 'created_at': '2025-06-12T14:24:26.3421796Z', 'done': True, 'done_reason': 'stop', 'total_duration': 6606706800, 'load_duration': 3382393100, 'prompt_eval_count': 45, 'prompt_eval_duration': 2552058300, 'eval_count': 7, 'eval_duration': 660035500, 'model_name': 'llama3.2'}, id='run--08abae3e-7188-4dfb-a575-ad7313c9d90f-0', usage_metadata={'input_tokens': 45, 'output_tokens': 7, 'total_tokens': 52})"
      ]
     },
     "execution_count": 8,
     "metadata": {},
     "output_type": "execute_result"
    }
   ],
   "source": [
    "from langchain_core.messages import AIMessage\n",
    "\n",
    "messages = [\n",
    "    (\n",
    "        \"system\",\n",
    "        \"You are a helpful assistant that translates English to French. Translate the user sentence.\",\n",
    "    ),\n",
    "    (\"human\", \"I love programming.\"),\n",
    "]\n",
    "ai_msg = llm.invoke(messages)\n",
    "ai_msg"
   ]
  },
  {
   "cell_type": "code",
   "execution_count": null,
   "id": "9fcf90ff",
   "metadata": {},
   "outputs": [],
   "source": []
  }
 ],
 "metadata": {
  "kernelspec": {
   "display_name": "gk",
   "language": "python",
   "name": "python3"
  },
  "language_info": {
   "codemirror_mode": {
    "name": "ipython",
    "version": 3
   },
   "file_extension": ".py",
   "mimetype": "text/x-python",
   "name": "python",
   "nbconvert_exporter": "python",
   "pygments_lexer": "ipython3",
   "version": "3.13.3"
  }
 },
 "nbformat": 4,
 "nbformat_minor": 5
}
